{
 "cells": [
  {
   "cell_type": "markdown",
   "metadata": {},
   "source": [
    "# Descriptive Statistics and Graphic Displays"
   ]
  },
  {
   "cell_type": "code",
   "execution_count": 29,
   "metadata": {},
   "outputs": [],
   "source": [
    "import numpy as np\n",
    "import pandas as pd\n",
    "import matplotlib.pyplot as plt\n",
    "import seaborn as sns\n",
    "\n",
    "%matplotlib inline\n",
    "\n",
    "sns.set(rc={'figure.figsize':(11.7,8.27)})\n",
    "sns.set_style('white')"
   ]
  },
  {
   "cell_type": "markdown",
   "metadata": {},
   "source": [
    "**descriptive statistics** - use of statistical and graphic techniques to present information about the data being studied\n",
    "\n",
    "* numbers that describe a population are referred to as *parameters* and are denoted by greek letters ($\\mu$, $\\sigma$)\n",
    "* numbers that describe a sample are referred to as *statistics* and are denoted by latin letters ($\\overline{x}$, $s$)\n",
    "\n",
    "## Measures of Central Tendencey\n",
    "\n",
    "### mean\n",
    "\n",
    "$$\n",
    "\\mu = {\\frac {1}{n}}\\sum _{i=1}^{n}x_{i}\n",
    "$$\n",
    "\n",
    "* commonly known as the average\n",
    "* grouped mean - mean of bins; calculated by midpoint\n",
    "* trimmed or winsorized mean - used to deal with outliers\n",
    "\n",
    "### median\n",
    "\n",
    "* middle value when the data set is ranked\n",
    "* better measure of central tendency when data is asymmetrical or contains outliers\n",
    "\n",
    "### mode\n",
    "\n",
    "* useful in describing ordinal or categorical data\n",
    "\n",
    "## Measures of Dispersion\n",
    "\n",
    "* refers to how spread out data is. also referrred to as measures of spread.\n",
    "\n",
    "### The Range and Interquartile Range\n",
    "\n",
    "* **range** - difference between the highest and lowest values\n",
    "* **interquartile range (IQR)** - less influenced by extreme values than the range; the middle 50% of the values in a dataset (difference between the 75th and 25th percentile values)\n",
    "\n",
    "### The Variance and Standard Deviation\n",
    "\n",
    "* describe how much the individual values in a dataset vary from the mean\n",
    "\n",
    "* **variance** - average of the squared deviations from the mean; \n",
    "* **standard deviation** - square root of the variance;\n",
    "* signified as $\\sigma^2$ and $\\sigma$ when refering to a population; $s^2$ and $s$ for a sample\n",
    "* **coefficient of variation** - makes it possible to measure relative variablility across variables measured in different units\n",
    "\n",
    "**sum of deviations from the mean**\n",
    "$$\n",
    "\\sum _{i=1}^{n}(x_{i}-\\mu_{i})\n",
    "$$\n",
    "\n",
    "**sum of squared deviations from the mean**\n",
    "$$\n",
    "\\sigma^2 = \\frac{1}{n}\\sum _{i=1}^{n}(x_{i}-\\mu_{i})^2\n",
    "$$\n",
    "\n",
    "**sample variance**\n",
    "$$\n",
    "s^2 = \\frac{1}{n-1}\\sum _{i=1}^{n}(x_{i}-\\overline{x})^2\n",
    "$$\n",
    "\n",
    "**standard deviation for a population**\n",
    "$$\n",
    "\\sigma = \\sqrt{\\frac{1}{n}\\sum _{i=1}^{n}(x_{i}-\\mu)^2}\n",
    "$$\n",
    "\n",
    "**standard deviation for a population**\n",
    "$$\n",
    "s = \\sqrt{\\frac{1}{n-1}\\sum _{i=1}^{n}(x_{i}-\\overline{x})^2}\n",
    "$$\n",
    "\n",
    "**coefficient of variation (CV)**\n",
    "$$\n",
    "CV = \\frac{s}{\\overline{x}} \\times 100\n",
    "$$\n",
    "\n",
    "## Outliers\n",
    "## Graphic Methods\n"
   ]
  },
  {
   "cell_type": "code",
   "execution_count": 8,
   "metadata": {},
   "outputs": [
    {
     "data": {
      "text/html": [
       "<div>\n",
       "<style scoped>\n",
       "    .dataframe tbody tr th:only-of-type {\n",
       "        vertical-align: middle;\n",
       "    }\n",
       "\n",
       "    .dataframe tbody tr th {\n",
       "        vertical-align: top;\n",
       "    }\n",
       "\n",
       "    .dataframe thead th {\n",
       "        text-align: right;\n",
       "    }\n",
       "</style>\n",
       "<table border=\"1\" class=\"dataframe\">\n",
       "  <thead>\n",
       "    <tr style=\"text-align: right;\">\n",
       "      <th></th>\n",
       "      <th>BMI Range</th>\n",
       "      <th>Category</th>\n",
       "      <th>Numbers</th>\n",
       "    </tr>\n",
       "  </thead>\n",
       "  <tbody>\n",
       "    <tr>\n",
       "      <th>0</th>\n",
       "      <td>&lt; 18.5</td>\n",
       "      <td>Underweight</td>\n",
       "      <td>25</td>\n",
       "    </tr>\n",
       "    <tr>\n",
       "      <th>1</th>\n",
       "      <td>18.5 - 24.9</td>\n",
       "      <td>Normal weight</td>\n",
       "      <td>500</td>\n",
       "    </tr>\n",
       "    <tr>\n",
       "      <th>2</th>\n",
       "      <td>25.0 - 29.9</td>\n",
       "      <td>Overweight</td>\n",
       "      <td>175</td>\n",
       "    </tr>\n",
       "    <tr>\n",
       "      <th>3</th>\n",
       "      <td>30.0 and above</td>\n",
       "      <td>Obese</td>\n",
       "      <td>50</td>\n",
       "    </tr>\n",
       "  </tbody>\n",
       "</table>\n",
       "</div>"
      ],
      "text/plain": [
       "        BMI Range       Category  Numbers\n",
       "0          < 18.5    Underweight       25\n",
       "1     18.5 - 24.9  Normal weight      500\n",
       "2     25.0 - 29.9     Overweight      175\n",
       "3  30.0 and above          Obese       50"
      ]
     },
     "execution_count": 8,
     "metadata": {},
     "output_type": "execute_result"
    }
   ],
   "source": [
    "# frequency table\n",
    "d = {\n",
    "    'BMI Range': ['< 18.5','18.5 - 24.9','25.0 - 29.9','30.0 and above'],\n",
    "    'Category': ['Underweight','Normal weight','Overweight', 'Obese'],\n",
    "    'Numbers': [25,500,175,50]\n",
    "}\n",
    "\n",
    "df = pd.DataFrame(d)\n",
    "df"
   ]
  },
  {
   "cell_type": "markdown",
   "metadata": {},
   "source": [
    "`Numbers` represents *absolute frequency*, or the number of occurances. we can compute *relative frequencies*, or the percent of total each category represents."
   ]
  },
  {
   "cell_type": "code",
   "execution_count": 11,
   "metadata": {},
   "outputs": [
    {
     "data": {
      "text/html": [
       "<div>\n",
       "<style scoped>\n",
       "    .dataframe tbody tr th:only-of-type {\n",
       "        vertical-align: middle;\n",
       "    }\n",
       "\n",
       "    .dataframe tbody tr th {\n",
       "        vertical-align: top;\n",
       "    }\n",
       "\n",
       "    .dataframe thead th {\n",
       "        text-align: right;\n",
       "    }\n",
       "</style>\n",
       "<table border=\"1\" class=\"dataframe\">\n",
       "  <thead>\n",
       "    <tr style=\"text-align: right;\">\n",
       "      <th></th>\n",
       "      <th>BMI Range</th>\n",
       "      <th>Category</th>\n",
       "      <th>Numbers</th>\n",
       "      <th>Relative Frequency</th>\n",
       "    </tr>\n",
       "  </thead>\n",
       "  <tbody>\n",
       "    <tr>\n",
       "      <th>0</th>\n",
       "      <td>&lt; 18.5</td>\n",
       "      <td>Underweight</td>\n",
       "      <td>25</td>\n",
       "      <td>3.33</td>\n",
       "    </tr>\n",
       "    <tr>\n",
       "      <th>1</th>\n",
       "      <td>18.5 - 24.9</td>\n",
       "      <td>Normal weight</td>\n",
       "      <td>500</td>\n",
       "      <td>66.67</td>\n",
       "    </tr>\n",
       "    <tr>\n",
       "      <th>2</th>\n",
       "      <td>25.0 - 29.9</td>\n",
       "      <td>Overweight</td>\n",
       "      <td>175</td>\n",
       "      <td>23.33</td>\n",
       "    </tr>\n",
       "    <tr>\n",
       "      <th>3</th>\n",
       "      <td>30.0 and above</td>\n",
       "      <td>Obese</td>\n",
       "      <td>50</td>\n",
       "      <td>6.67</td>\n",
       "    </tr>\n",
       "  </tbody>\n",
       "</table>\n",
       "</div>"
      ],
      "text/plain": [
       "        BMI Range       Category  Numbers  Relative Frequency\n",
       "0          < 18.5    Underweight       25                3.33\n",
       "1     18.5 - 24.9  Normal weight      500               66.67\n",
       "2     25.0 - 29.9     Overweight      175               23.33\n",
       "3  30.0 and above          Obese       50                6.67"
      ]
     },
     "execution_count": 11,
     "metadata": {},
     "output_type": "execute_result"
    }
   ],
   "source": [
    "# compute realtive frequency rounded to 2 significant digits\n",
    "df['Relative Frequency'] = round(df['Numbers'] / sum(df['Numbers']) * 100, 2)\n",
    "df"
   ]
  },
  {
   "cell_type": "markdown",
   "metadata": {},
   "source": [
    "*Cumulative frequency* shows the relative frequency for each category and those below it."
   ]
  },
  {
   "cell_type": "code",
   "execution_count": 14,
   "metadata": {},
   "outputs": [
    {
     "data": {
      "text/html": [
       "<div>\n",
       "<style scoped>\n",
       "    .dataframe tbody tr th:only-of-type {\n",
       "        vertical-align: middle;\n",
       "    }\n",
       "\n",
       "    .dataframe tbody tr th {\n",
       "        vertical-align: top;\n",
       "    }\n",
       "\n",
       "    .dataframe thead th {\n",
       "        text-align: right;\n",
       "    }\n",
       "</style>\n",
       "<table border=\"1\" class=\"dataframe\">\n",
       "  <thead>\n",
       "    <tr style=\"text-align: right;\">\n",
       "      <th></th>\n",
       "      <th>BMI Range</th>\n",
       "      <th>Category</th>\n",
       "      <th>Numbers</th>\n",
       "      <th>Relative Frequency</th>\n",
       "      <th>Cumulative Frequency</th>\n",
       "    </tr>\n",
       "  </thead>\n",
       "  <tbody>\n",
       "    <tr>\n",
       "      <th>0</th>\n",
       "      <td>&lt; 18.5</td>\n",
       "      <td>Underweight</td>\n",
       "      <td>25</td>\n",
       "      <td>3.33</td>\n",
       "      <td>3.33</td>\n",
       "    </tr>\n",
       "    <tr>\n",
       "      <th>1</th>\n",
       "      <td>18.5 - 24.9</td>\n",
       "      <td>Normal weight</td>\n",
       "      <td>500</td>\n",
       "      <td>66.67</td>\n",
       "      <td>70.00</td>\n",
       "    </tr>\n",
       "    <tr>\n",
       "      <th>2</th>\n",
       "      <td>25.0 - 29.9</td>\n",
       "      <td>Overweight</td>\n",
       "      <td>175</td>\n",
       "      <td>23.33</td>\n",
       "      <td>93.33</td>\n",
       "    </tr>\n",
       "    <tr>\n",
       "      <th>3</th>\n",
       "      <td>30.0 and above</td>\n",
       "      <td>Obese</td>\n",
       "      <td>50</td>\n",
       "      <td>6.67</td>\n",
       "      <td>100.00</td>\n",
       "    </tr>\n",
       "  </tbody>\n",
       "</table>\n",
       "</div>"
      ],
      "text/plain": [
       "        BMI Range       Category  Numbers  Relative Frequency  \\\n",
       "0          < 18.5    Underweight       25                3.33   \n",
       "1     18.5 - 24.9  Normal weight      500               66.67   \n",
       "2     25.0 - 29.9     Overweight      175               23.33   \n",
       "3  30.0 and above          Obese       50                6.67   \n",
       "\n",
       "   Cumulative Frequency  \n",
       "0                  3.33  \n",
       "1                 70.00  \n",
       "2                 93.33  \n",
       "3                100.00  "
      ]
     },
     "execution_count": 14,
     "metadata": {},
     "output_type": "execute_result"
    }
   ],
   "source": [
    "# compute cumulative frequency\n",
    "df['Cumulative Frequency'] = np.cumsum(df['Relative Frequency'])\n",
    "df"
   ]
  },
  {
   "cell_type": "markdown",
   "metadata": {},
   "source": [
    "## Bar Charts\n",
    "\n",
    "Appropriate for displaying discrete data with only a few categories\n"
   ]
  },
  {
   "cell_type": "code",
   "execution_count": 52,
   "metadata": {},
   "outputs": [
    {
     "data": {
      "text/plain": [
       "<matplotlib.axes._subplots.AxesSubplot at 0x7fbb8be6e210>"
      ]
     },
     "execution_count": 52,
     "metadata": {},
     "output_type": "execute_result"
    },
    {
     "data": {
      "image/png": "[encoded data removed]",
      "text/plain": [
       "<Figure size 842.4x595.44 with 1 Axes>"
      ]
     },
     "metadata": {},
     "output_type": "display_data"
    }
   ],
   "source": [
    "sns.barplot(x='BMI Range',y='Numbers',data=df,palette='pastel')"
   ]
  },
  {
   "cell_type": "markdown",
   "metadata": {},
   "source": [
    "## Boxplots"
   ]
  },
  {
   "cell_type": "code",
   "execution_count": 51,
   "metadata": {},
   "outputs": [
    {
     "data": {
      "text/plain": [
       "<matplotlib.axes._subplots.AxesSubplot at 0x7fbb8cec3650>"
      ]
     },
     "execution_count": 51,
     "metadata": {},
     "output_type": "execute_result"
    },
    {
     "data": {
      "image/png": "[encoded data removed]",
      "text/plain": [
       "<Figure size 842.4x595.44 with 1 Axes>"
      ]
     },
     "metadata": {},
     "output_type": "display_data"
    }
   ],
   "source": [
    "# boxplot\n",
    "grades = [\n",
    "    61, 64, 68, 70, 70, 71, 73, 74, 74, \n",
    "    76, 79, 80, 80, 83, 84, 84, 87, 89, \n",
    "    89, 89, 90,92, 95, 95, 98, 100\n",
    "]\n",
    "\n",
    "sns.boxplot(grades,orient='v',palette='pastel')"
   ]
  },
  {
   "cell_type": "markdown",
   "metadata": {},
   "source": [
    "## Histograms"
   ]
  },
  {
   "cell_type": "code",
   "execution_count": 58,
   "metadata": {},
   "outputs": [
    {
     "data": {
      "text/plain": [
       "<matplotlib.axes._subplots.AxesSubplot at 0x7fbb8e808690>"
      ]
     },
     "execution_count": 58,
     "metadata": {},
     "output_type": "execute_result"
    },
    {
     "data": {
      "image/png": "[encoded data removed]",
      "text/plain": [
       "<Figure size 842.4x595.44 with 1 Axes>"
      ]
     },
     "metadata": {},
     "output_type": "display_data"
    }
   ],
   "source": [
    "sns.distplot(grades,bins=10)"
   ]
  },
  {
   "cell_type": "markdown",
   "metadata": {},
   "source": [
    "## Scatterplots"
   ]
  },
  {
   "cell_type": "code",
   "execution_count": null,
   "metadata": {},
   "outputs": [],
   "source": [
    "Math: []\n",
    "Verbal\n",
    "750\n",
    "750\n",
    "700\n",
    "710\n",
    "720\n",
    "700\n",
    "790\n",
    "780\n",
    "700\n",
    "680\n",
    "750\n",
    "700\n",
    "620\n",
    "610\n",
    "640\n",
    "630\n",
    "700\n",
    "710\n",
    "710\n",
    "680\n",
    "540\n",
    "550\n",
    "570\n",
    "600\n",
    "580\n",
    "600\n",
    "790\n",
    "750\n",
    "710\n",
    "720\n"
   ]
  }
 ],
 "metadata": {
  "kernelspec": {
   "display_name": "Python 3",
   "language": "python",
   "name": "python3"
  },
  "language_info": {
   "codemirror_mode": {
    "name": "ipython",
    "version": 3
   },
   "file_extension": ".py",
   "mimetype": "text/x-python",
   "name": "python",
   "nbconvert_exporter": "python",
   "pygments_lexer": "ipython3",
   "version": "3.7.6"
  }
 },
 "nbformat": 4,
 "nbformat_minor": 4
}
