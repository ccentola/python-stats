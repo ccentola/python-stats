{
 "cells": [
  {
   "cell_type": "markdown",
   "metadata": {},
   "source": [
    "# Exploratory Data Analysis (EDA)"
   ]
  },
  {
   "cell_type": "code",
   "execution_count": null,
   "metadata": {},
   "outputs": [],
   "source": []
  },
  {
   "cell_type": "markdown",
   "metadata": {},
   "source": [
    "anecdotal evidence - based on data that is unpublished and usually personal\n",
    "\n",
    "why anecdotal evidence fails:\n",
    "* **small number of observations**\n",
    "* **selection bias**\n",
    "* **confirmation bias**\n",
    "* **inaccuarcy**\n",
    "\n",
    "statistical approach:\n",
    "* **data collection**\n",
    "* **descriptive statistics**\n",
    "* **exploratory data analysis**\n",
    "* **estimation**\n",
    "* **hypothesis testing**\n",
    "\n",
    "* **cross-sectional study** - captures a snapshot of a group at a point in time.\n",
    "* **longitudinal study** - observes a group repeatedly over time.\n",
    "* **cycle** - deplyment of a study; used here in reference to a cross-sectional study.\n",
    "\n",
    "* **population** - a group of intrest for a study\n",
    "* **sample** - data from a subset of the population\n",
    "* **respondents** - participants in a survey\n",
    "* **representative** - every member of the target population has an equal chance of participating\n",
    "\n",
    "* **oversampled** - when specific groups are over targeted; used here to obtain enough respondents to draw valid statistical inferences\n",
    "* **record** - a single observation"
   ]
  },
  {
   "cell_type": "markdown",
   "metadata": {},
   "source": [
    "## Datasets\n",
    "* [National Survey of Family Growth](https://www.cdc.gov/nchs/nsfg/index.htm)"
   ]
  },
  {
   "cell_type": "markdown",
   "metadata": {},
   "source": [
    "# Basic Concepts of Measurement"
   ]
  },
  {
   "cell_type": "markdown",
   "metadata": {},
   "source": [
    "**measurement** - the process of systematically assigining numbers to objects and their properties to facilitate the use of mathematics in studying and describing objects and their relationships.\n",
    "\n",
    "**levels of measurement**\n",
    "* **nominal** - numbers function as a name or label and do not have numeric meaning\n",
    "    * ex. gender as (0,1); also called binary\n",
    "    * ex. baseball positions: 1 - pictures, 2 - catchers, etc.\n",
    "* **ordinal** - data that has a meaningful order\n",
    "    * ex. burns: 1st, 2nd, 3rd degree\n",
    "* **interval** - has a meaningful order and equal intervals\n",
    "    * ex. Fahrenheit scale; difference between 10 and 25 degrees is the same as the difference between 60 and 75 degreees\n",
    "* **ratio** - all the same qualities as interval, but with a natural zero point\n",
    "    * ex. height, weight, age, income\n",
    "    \n",
    "**continuous** - can take any value or any value within a range\n",
    "**discrete** - can take only particular values; \"you can have 2 children or 3 children, but not 2.37 children\"\n",
    "\n",
    "**operationalization** - the process of specifying how a concept will be defined and measured; IQ is an example: no direct way to measure\n",
    "\n",
    "**proxy measurement** - the process of substituting one measurement for another.\n",
    "* ex. swapping an expensive, difficult to capture measurement for an inexpensive, obtainable measure\n",
    "* ex. asking a parent to rate their child's mood"
   ]
  },
  {
   "cell_type": "markdown",
   "metadata": {},
   "source": [
    "## True and Error Scores"
   ]
  },
  {
   "cell_type": "markdown",
   "metadata": {},
   "source": [
    "$$X = T + E$$\n",
    "\n",
    "where: \n",
    "* $X$ is the observed measurement\n",
    "* $T$ is the true score\n",
    "* and $E$ is the error"
   ]
  },
  {
   "cell_type": "markdown",
   "metadata": {},
   "source": [
    "ex. a person's scale might read 120 lbs with their true weight being 118 and en error of 2 lbs."
   ]
  },
  {
   "cell_type": "markdown",
   "metadata": {},
   "source": [
    "### Random and Systematic Error\n",
    "* **random error** - due to chance; has no pattern and is assumed to cancel itself out over repeated measurements\n",
    "* **systematic error** - has an observable pattern, not due to chance, and can be remedied"
   ]
  },
  {
   "cell_type": "markdown",
   "metadata": {},
   "source": [
    "## Reliability and Validity\n",
    "* **reliablity** - how consistent or repeatable measurements are\n",
    "    * **multiple-occasions** - how similarly a test or scale performs over repeated administration; \"test-retest\"\n",
    "    * **multiple-forms** - how similarly different versions of a test perform in measuring the same entity\n",
    "    * **internal consistency** - how well the items that make up an instrument refelct the same construct\n",
    "* **validity** - how well a test or rating scale measures what it is supposed to measure\n",
    "    * **content** - how well the process of measurement reflects the important content of the domain of interest and is of particular concern when the purpose of the measurement is to draw inferences about a larger domain of interest.\n",
    "    * **construct** - appears (to a member of the general public or a typical person who may be evaluated by the measure) to be a fair assessment of the qualities under study\n",
    "    * **concurrent** - how well inferences drawn from a measurement can be used to predict some other behavior or performance that is measured at approximately the same time\n",
    "    * **predictive** - similar but concerns the ability to draw inferences about some event in the future\n",
    "    \n",
    "* **triangulation** - determining a point based on its relationship to other known points\n"
   ]
  },
  {
   "cell_type": "markdown",
   "metadata": {},
   "source": [
    "## Measurement Bias\n"
   ]
  }
 ],
 "metadata": {
  "kernelspec": {
   "display_name": "Python 3",
   "language": "python",
   "name": "python3"
  },
  "language_info": {
   "codemirror_mode": {
    "name": "ipython",
    "version": 3
   },
   "file_extension": ".py",
   "mimetype": "text/x-python",
   "name": "python",
   "nbconvert_exporter": "python",
   "pygments_lexer": "ipython3",
   "version": "3.7.6"
  }
 },
 "nbformat": 4,
 "nbformat_minor": 4
}
